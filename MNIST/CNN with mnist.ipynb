{
 "cells": [
  {
   "cell_type": "code",
   "execution_count": 1,
   "metadata": {
    "collapsed": true
   },
   "outputs": [],
   "source": [
    "from __future__ import print_function\n",
    "%matplotlib inline"
   ]
  },
  {
   "cell_type": "code",
   "execution_count": 2,
   "metadata": {},
   "outputs": [
    {
     "name": "stderr",
     "output_type": "stream",
     "text": [
      "C:\\ProgramData\\Anaconda3\\lib\\site-packages\\h5py\\__init__.py:34: FutureWarning: Conversion of the second argument of issubdtype from `float` to `np.floating` is deprecated. In future, it will be treated as `np.float64 == np.dtype(float).type`.\n",
      "  from ._conv import register_converters as _register_converters\n",
      "Using TensorFlow backend.\n"
     ]
    }
   ],
   "source": [
    "import pandas as pd\n",
    "import numpy as np\n",
    "import keras \n",
    "import matplotlib.pyplot as plt"
   ]
  },
  {
   "cell_type": "code",
   "execution_count": 3,
   "metadata": {
    "collapsed": true
   },
   "outputs": [],
   "source": [
    "from keras.datasets import mnist\n",
    "from keras.models import Sequential\n",
    "from keras.layers import Dense, Dropout, Activation, Flatten\n",
    "from keras.layers import Conv2D, MaxPooling2D\n",
    "from keras import backend as K"
   ]
  },
  {
   "cell_type": "code",
   "execution_count": 4,
   "metadata": {
    "collapsed": true
   },
   "outputs": [],
   "source": [
    "batch_size = 128\n",
    "epochs = 12\n",
    "num_classes = 10"
   ]
  },
  {
   "cell_type": "code",
   "execution_count": 5,
   "metadata": {
    "collapsed": true
   },
   "outputs": [],
   "source": [
    "# input image dimensions\n",
    "img_rows, img_cols = 28, 28"
   ]
  },
  {
   "cell_type": "code",
   "execution_count": 6,
   "metadata": {
    "collapsed": true
   },
   "outputs": [],
   "source": [
    "# the data, split between train and test \n",
    "(x_train, y_train), (x_test, y_test) = mnist.load_data()"
   ]
  },
  {
   "cell_type": "code",
   "execution_count": 7,
   "metadata": {},
   "outputs": [
    {
     "name": "stdout",
     "output_type": "stream",
     "text": [
      "train_features: (60000, 28, 28) train_labels: (60000,) test_features (10000, 28, 28) test_labels: (10000,)\n"
     ]
    }
   ],
   "source": [
    "print(\"train_features:\",x_train.shape, \"train_labels:\", y_train.shape,\"test_features\", x_test.shape,\"test_labels:\", y_test.shape)"
   ]
  },
  {
   "cell_type": "code",
   "execution_count": 8,
   "metadata": {
    "collapsed": true
   },
   "outputs": [],
   "source": [
    "if K.image_data_format()  == 'channels_first':\n",
    "    \n",
    "    x_train = x_train.reshape(x_train.shape[0], 1,img_rows, img_cols)\n",
    "    x_test = x_test.reshape(x_test.shape[0], 1,img_rows, img_cols)\n",
    "    input_shape = (1, img_rows,img_cols)\n",
    "    \n",
    "else:\n",
    "    x_train = x_train.reshape(x_train.shape[0], img_rows, img_cols,1)\n",
    "    x_test = x_test.reshape(x_test.shape[0], img_rows, img_cols, 1)\n",
    "    input_shape = (img_rows, img_cols, 1)"
   ]
  },
  {
   "cell_type": "code",
   "execution_count": 9,
   "metadata": {
    "collapsed": true
   },
   "outputs": [],
   "source": [
    "x_train = x_train.astype('float')\n",
    "x_test = x_test.astype('float')"
   ]
  },
  {
   "cell_type": "code",
   "execution_count": 10,
   "metadata": {
    "collapsed": true
   },
   "outputs": [],
   "source": [
    "x_train /= 255\n",
    "x_test /= 255"
   ]
  },
  {
   "cell_type": "code",
   "execution_count": 11,
   "metadata": {},
   "outputs": [
    {
     "name": "stdout",
     "output_type": "stream",
     "text": [
      "x_train shape: (60000, 28, 28, 1)\n",
      "60000 train samples\n",
      "10000 test samples\n"
     ]
    }
   ],
   "source": [
    "print('x_train shape:', x_train.shape)\n",
    "print(x_train.shape[0], 'train samples')\n",
    "print(x_test.shape[0], 'test samples')"
   ]
  },
  {
   "cell_type": "code",
   "execution_count": 12,
   "metadata": {
    "collapsed": true
   },
   "outputs": [],
   "source": [
    "y_train = keras.utils.to_categorical(y_train, num_classes)\n",
    "y_test = keras.utils.to_categorical(y_test, num_classes)"
   ]
  },
  {
   "cell_type": "code",
   "execution_count": 13,
   "metadata": {
    "collapsed": true
   },
   "outputs": [],
   "source": [
    "model = Sequential()\n",
    "model.add(Conv2D(32, kernel_size= (3,3), activation = 'relu', input_shape = input_shape))\n",
    "model.add(MaxPooling2D(pool_size=(2,2)))\n",
    "model.add(Dropout(0.2))\n",
    "model.add(Flatten())\n",
    "model.add(Dense(64, activation= 'relu'))\n",
    "model.add(Dropout(0.2))\n",
    "model.add(Dense(num_classes, activation= 'softmax'))"
   ]
  },
  {
   "cell_type": "code",
   "execution_count": 14,
   "metadata": {
    "collapsed": true
   },
   "outputs": [],
   "source": [
    "model.compile(loss = keras.losses.categorical_crossentropy, optimizer=keras.optimizers.Adadelta(), metrics = ['accuracy'])"
   ]
  },
  {
   "cell_type": "code",
   "execution_count": 15,
   "metadata": {},
   "outputs": [
    {
     "name": "stdout",
     "output_type": "stream",
     "text": [
      "Train on 60000 samples, validate on 10000 samples\n",
      "Epoch 1/12\n",
      "60000/60000 [==============================] - 45s 751us/step - loss: 0.3480 - acc: 0.8962 - val_loss: 0.1290 - val_acc: 0.9628\n",
      "Epoch 2/12\n",
      "60000/60000 [==============================] - 57s 942us/step - loss: 0.1353 - acc: 0.9593 - val_loss: 0.0766 - val_acc: 0.9766\n",
      "Epoch 3/12\n",
      "60000/60000 [==============================] - 51s 858us/step - loss: 0.0977 - acc: 0.9709 - val_loss: 0.0658 - val_acc: 0.9778\n",
      "Epoch 4/12\n",
      "60000/60000 [==============================] - 48s 792us/step - loss: 0.0795 - acc: 0.9762 - val_loss: 0.0561 - val_acc: 0.9805\n",
      "Epoch 5/12\n",
      "60000/60000 [==============================] - 47s 792us/step - loss: 0.0688 - acc: 0.9785 - val_loss: 0.0491 - val_acc: 0.9826\n",
      "Epoch 6/12\n",
      "60000/60000 [==============================] - 67s 1ms/step - loss: 0.0611 - acc: 0.9816 - val_loss: 0.0469 - val_acc: 0.9843\n",
      "Epoch 7/12\n",
      "60000/60000 [==============================] - 75s 1ms/step - loss: 0.0554 - acc: 0.9829 - val_loss: 0.0436 - val_acc: 0.9850\n",
      "Epoch 8/12\n",
      "60000/60000 [==============================] - 77s 1ms/step - loss: 0.0522 - acc: 0.9836 - val_loss: 0.0417 - val_acc: 0.9856\n",
      "Epoch 9/12\n",
      "60000/60000 [==============================] - 80s 1ms/step - loss: 0.0453 - acc: 0.9858 - val_loss: 0.0409 - val_acc: 0.9858\n",
      "Epoch 10/12\n",
      "60000/60000 [==============================] - 78s 1ms/step - loss: 0.0434 - acc: 0.9867 - val_loss: 0.0388 - val_acc: 0.9867\n",
      "Epoch 11/12\n",
      "60000/60000 [==============================] - 71s 1ms/step - loss: 0.0391 - acc: 0.9881 - val_loss: 0.0411 - val_acc: 0.9860\n",
      "Epoch 12/12\n",
      "60000/60000 [==============================] - 77s 1ms/step - loss: 0.0368 - acc: 0.9887 - val_loss: 0.0378 - val_acc: 0.9872\n"
     ]
    },
    {
     "data": {
      "text/plain": [
       "<keras.callbacks.History at 0x1a9e67d72b0>"
      ]
     },
     "execution_count": 15,
     "metadata": {},
     "output_type": "execute_result"
    }
   ],
   "source": [
    "model.fit(x_train, y_train, epochs= epochs, batch_size= batch_size, verbose= 1, validation_data= (x_test, y_test))"
   ]
  },
  {
   "cell_type": "code",
   "execution_count": null,
   "metadata": {
    "collapsed": true
   },
   "outputs": [],
   "source": []
  },
  {
   "cell_type": "code",
   "execution_count": null,
   "metadata": {
    "collapsed": true
   },
   "outputs": [],
   "source": []
  },
  {
   "cell_type": "code",
   "execution_count": null,
   "metadata": {
    "collapsed": true
   },
   "outputs": [],
   "source": []
  }
 ],
 "metadata": {
  "kernelspec": {
   "display_name": "Python 3",
   "language": "python",
   "name": "python3"
  },
  "language_info": {
   "codemirror_mode": {
    "name": "ipython",
    "version": 3
   },
   "file_extension": ".py",
   "mimetype": "text/x-python",
   "name": "python",
   "nbconvert_exporter": "python",
   "pygments_lexer": "ipython3",
   "version": "3.6.1"
  }
 },
 "nbformat": 4,
 "nbformat_minor": 2
}
