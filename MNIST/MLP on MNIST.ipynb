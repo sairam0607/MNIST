{
 "cells": [
  {
   "cell_type": "code",
   "execution_count": 1,
   "metadata": {
    "collapsed": true
   },
   "outputs": [],
   "source": [
    "from __future__ import print_function"
   ]
  },
  {
   "cell_type": "code",
   "execution_count": 2,
   "metadata": {},
   "outputs": [
    {
     "name": "stderr",
     "output_type": "stream",
     "text": [
      "C:\\ProgramData\\Anaconda3\\lib\\site-packages\\h5py\\__init__.py:34: FutureWarning: Conversion of the second argument of issubdtype from `float` to `np.floating` is deprecated. In future, it will be treated as `np.float64 == np.dtype(float).type`.\n",
      "  from ._conv import register_converters as _register_converters\n",
      "Using TensorFlow backend.\n"
     ]
    }
   ],
   "source": [
    "import pandas as pd\n",
    "import numpy as np\n",
    "import keras\n",
    "import matplotlib.pyplot as plt\n",
    "%matplotlib inline"
   ]
  },
  {
   "cell_type": "code",
   "execution_count": 3,
   "metadata": {
    "collapsed": true
   },
   "outputs": [],
   "source": [
    "from keras.datasets import mnist\n",
    "from keras.models import Sequential\n",
    "from keras.layers import Dense, Activation, Dropout\n",
    "from keras.optimizers import rmsprop, SGD"
   ]
  },
  {
   "cell_type": "code",
   "execution_count": 4,
   "metadata": {
    "collapsed": true
   },
   "outputs": [],
   "source": [
    "batch_size = 32\n",
    "num_classes = 10\n",
    "epochs = 20\n",
    "learning_rate = 0.2"
   ]
  },
  {
   "cell_type": "code",
   "execution_count": 5,
   "metadata": {},
   "outputs": [],
   "source": [
    "#data split between  train and test\n",
    "(x_train, y_train), (x_test, y_test) = mnist.load_data()"
   ]
  },
  {
   "cell_type": "code",
   "execution_count": 6,
   "metadata": {
    "collapsed": true
   },
   "outputs": [],
   "source": [
    "x_train = x_train.reshape(60000, 784)\n",
    "x_test = x_test.reshape(10000, 784)"
   ]
  },
  {
   "cell_type": "code",
   "execution_count": 7,
   "metadata": {},
   "outputs": [],
   "source": [
    "x_train = x_train.astype('float32')\n",
    "x_test = x_test.astype('float32')"
   ]
  },
  {
   "cell_type": "code",
   "execution_count": 8,
   "metadata": {},
   "outputs": [],
   "source": [
    "x_train /= 255\n",
    "x_test /=255"
   ]
  },
  {
   "cell_type": "code",
   "execution_count": 9,
   "metadata": {},
   "outputs": [
    {
     "name": "stdout",
     "output_type": "stream",
     "text": [
      "60000 train sample\n",
      "10000 test sample\n"
     ]
    }
   ],
   "source": [
    "print(x_train.shape[0], 'train sample')\n",
    "print(x_test.shape[0], 'test sample')"
   ]
  },
  {
   "cell_type": "code",
   "execution_count": 10,
   "metadata": {
    "collapsed": true
   },
   "outputs": [],
   "source": [
    "# convert class vectors to binary class matrics\n",
    "y_train = keras.utils.to_categorical(y_train, num_classes)\n",
    "y_test = keras.utils.to_categorical(y_test, num_classes)"
   ]
  },
  {
   "cell_type": "code",
   "execution_count": 11,
   "metadata": {},
   "outputs": [
    {
     "name": "stdout",
     "output_type": "stream",
     "text": [
      "train sample: 60000\n",
      "test sample: 10000\n"
     ]
    }
   ],
   "source": [
    "print('train sample:',y_train.shape[0])\n",
    "print('test sample:', y_test.shape[0])"
   ]
  },
  {
   "cell_type": "code",
   "execution_count": 12,
   "metadata": {},
   "outputs": [],
   "source": [
    "model = Sequential()\n",
    "model.add(Dense(512, activation = 'relu', input_shape = (784,)))\n",
    "model.add(Dropout(0.2))\n",
    "model.add(Dense(512, activation = 'relu'))\n",
    "model.add(Dropout(0.2))\n",
    "model.add(Dense(10, activation='softmax'))"
   ]
  },
  {
   "cell_type": "code",
   "execution_count": 13,
   "metadata": {},
   "outputs": [
    {
     "name": "stdout",
     "output_type": "stream",
     "text": [
      "_________________________________________________________________\n",
      "Layer (type)                 Output Shape              Param #   \n",
      "=================================================================\n",
      "dense_1 (Dense)              (None, 512)               401920    \n",
      "_________________________________________________________________\n",
      "dropout_1 (Dropout)          (None, 512)               0         \n",
      "_________________________________________________________________\n",
      "dense_2 (Dense)              (None, 512)               262656    \n",
      "_________________________________________________________________\n",
      "dropout_2 (Dropout)          (None, 512)               0         \n",
      "_________________________________________________________________\n",
      "dense_3 (Dense)              (None, 10)                5130      \n",
      "=================================================================\n",
      "Total params: 669,706\n",
      "Trainable params: 669,706\n",
      "Non-trainable params: 0\n",
      "_________________________________________________________________\n"
     ]
    }
   ],
   "source": [
    "model.summary()"
   ]
  },
  {
   "cell_type": "code",
   "execution_count": 14,
   "metadata": {},
   "outputs": [],
   "source": [
    "#sgd = SGD(lr = learning_rate,momentum= 0.9, nesterov= False)\n",
    "model.compile(loss = 'categorical_crossentropy', optimizer= 'Adadelta', metrics=['accuracy'])"
   ]
  },
  {
   "cell_type": "code",
   "execution_count": 15,
   "metadata": {},
   "outputs": [
    {
     "name": "stdout",
     "output_type": "stream",
     "text": [
      "Train on 60000 samples, validate on 10000 samples\n",
      "Epoch 1/20\n",
      "60000/60000 [==============================] - 94s 2ms/step - loss: 0.2182 - acc: 0.9327 - val_loss: 0.1013 - val_acc: 0.9684\n",
      "Epoch 2/20\n",
      "60000/60000 [==============================] - 91s 2ms/step - loss: 0.0962 - acc: 0.9713 - val_loss: 0.0808 - val_acc: 0.9754\n",
      "Epoch 3/20\n",
      "60000/60000 [==============================] - 93s 2ms/step - loss: 0.0689 - acc: 0.9791 - val_loss: 0.0674 - val_acc: 0.9794\n",
      "Epoch 4/20\n",
      "60000/60000 [==============================] - 92s 2ms/step - loss: 0.0551 - acc: 0.9836 - val_loss: 0.0775 - val_acc: 0.9790\n",
      "Epoch 5/20\n",
      "60000/60000 [==============================] - 80s 1ms/step - loss: 0.0453 - acc: 0.9862 - val_loss: 0.0674 - val_acc: 0.9823\n",
      "Epoch 6/20\n",
      "60000/60000 [==============================] - 60s 1ms/step - loss: 0.0393 - acc: 0.9880 - val_loss: 0.0667 - val_acc: 0.9823\n",
      "Epoch 7/20\n",
      "60000/60000 [==============================] - 62s 1ms/step - loss: 0.0325 - acc: 0.9908 - val_loss: 0.0642 - val_acc: 0.9834\n",
      "Epoch 8/20\n",
      "60000/60000 [==============================] - 60s 1000us/step - loss: 0.0282 - acc: 0.9914 - val_loss: 0.0661 - val_acc: 0.9830\n",
      "Epoch 9/20\n",
      "60000/60000 [==============================] - 62s 1ms/step - loss: 0.0244 - acc: 0.9922 - val_loss: 0.0658 - val_acc: 0.9842\n",
      "Epoch 10/20\n",
      "60000/60000 [==============================] - 63s 1ms/step - loss: 0.0238 - acc: 0.9923 - val_loss: 0.0670 - val_acc: 0.9852\n",
      "Epoch 11/20\n",
      "60000/60000 [==============================] - 62s 1ms/step - loss: 0.0177 - acc: 0.9941 - val_loss: 0.0663 - val_acc: 0.9856\n",
      "Epoch 12/20\n",
      "60000/60000 [==============================] - 62s 1ms/step - loss: 0.0175 - acc: 0.9948 - val_loss: 0.0675 - val_acc: 0.9844\n",
      "Epoch 13/20\n",
      "60000/60000 [==============================] - 65s 1ms/step - loss: 0.0156 - acc: 0.9955 - val_loss: 0.0744 - val_acc: 0.9844\n",
      "Epoch 14/20\n",
      "60000/60000 [==============================] - 62s 1ms/step - loss: 0.0146 - acc: 0.9954 - val_loss: 0.0749 - val_acc: 0.9856\n",
      "Epoch 15/20\n",
      "60000/60000 [==============================] - 65s 1ms/step - loss: 0.0128 - acc: 0.9960 - val_loss: 0.0716 - val_acc: 0.9851\n",
      "Epoch 16/20\n",
      "60000/60000 [==============================] - 64s 1ms/step - loss: 0.0119 - acc: 0.9965 - val_loss: 0.0769 - val_acc: 0.9850\n",
      "Epoch 17/20\n",
      "60000/60000 [==============================] - 64s 1ms/step - loss: 0.0101 - acc: 0.9970 - val_loss: 0.0801 - val_acc: 0.9837\n",
      "Epoch 18/20\n",
      "60000/60000 [==============================] - 62s 1ms/step - loss: 0.0104 - acc: 0.9968 - val_loss: 0.0759 - val_acc: 0.9863\n",
      "Epoch 19/20\n",
      "60000/60000 [==============================] - 63s 1ms/step - loss: 0.0089 - acc: 0.9972 - val_loss: 0.0795 - val_acc: 0.9849\n",
      "Epoch 20/20\n",
      "60000/60000 [==============================] - 63s 1ms/step - loss: 0.0093 - acc: 0.9972 - val_loss: 0.0787 - val_acc: 0.9854\n"
     ]
    },
    {
     "data": {
      "text/plain": [
       "<keras.callbacks.History at 0x226a4f7ae48>"
      ]
     },
     "execution_count": 15,
     "metadata": {},
     "output_type": "execute_result"
    }
   ],
   "source": [
    "model.fit(x_train, y_train, verbose=1, epochs= epochs, batch_size= 32, shuffle= True, validation_data= (x_test, y_test))"
   ]
  },
  {
   "cell_type": "code",
   "execution_count": null,
   "metadata": {
    "collapsed": true
   },
   "outputs": [],
   "source": []
  },
  {
   "cell_type": "code",
   "execution_count": null,
   "metadata": {
    "collapsed": true
   },
   "outputs": [],
   "source": []
  }
 ],
 "metadata": {
  "kernelspec": {
   "display_name": "Python 3",
   "language": "python",
   "name": "python3"
  },
  "language_info": {
   "codemirror_mode": {
    "name": "ipython",
    "version": 3
   },
   "file_extension": ".py",
   "mimetype": "text/x-python",
   "name": "python",
   "nbconvert_exporter": "python",
   "pygments_lexer": "ipython3",
   "version": "3.6.1"
  }
 },
 "nbformat": 4,
 "nbformat_minor": 2
}
